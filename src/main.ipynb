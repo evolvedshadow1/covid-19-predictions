{
 "cells": [
  {
   "cell_type": "code",
   "execution_count": 1,
   "metadata": {},
   "outputs": [],
   "source": [
    "import pandas as pd\n",
    "import numpy as np\n",
    "import pickle\n",
    "from sklearn import svm\n",
    "from datetime import datetime\n",
    "import time\n",
    "from sklearn.model_selection import train_test_split\n",
    "from sklearn.ensemble import RandomForestClassifier, VotingClassifier\n",
    "from sklearn.naive_bayes import GaussianNB\n",
    "from sklearn.neighbors import KNeighborsClassifier\n",
    "from sklearn.ensemble import GradientBoostingClassifier\n",
    "from sklearn.metrics import accuracy_score\n",
    "from sklearn.ensemble import AdaBoostClassifier\n",
    "from sklearn.tree import DecisionTreeClassifier\n",
    "import matplotlib.pyplot as plt\n",
    "# references:\n",
    "# overfitting - https://machinelearningmastery.com/overfitting-machine-learning-models/"
   ]
  },
  {
   "cell_type": "code",
   "execution_count": 2,
   "metadata": {},
   "outputs": [],
   "source": [
    "train = pd.read_csv('../data/cases_train_processed.csv')"
   ]
  },
  {
   "cell_type": "code",
   "execution_count": 3,
   "metadata": {},
   "outputs": [
    {
     "data": {
      "text/html": [
       "<div>\n",
       "<style scoped>\n",
       "    .dataframe tbody tr th:only-of-type {\n",
       "        vertical-align: middle;\n",
       "    }\n",
       "\n",
       "    .dataframe tbody tr th {\n",
       "        vertical-align: top;\n",
       "    }\n",
       "\n",
       "    .dataframe thead th {\n",
       "        text-align: right;\n",
       "    }\n",
       "</style>\n",
       "<table border=\"1\" class=\"dataframe\">\n",
       "  <thead>\n",
       "    <tr style=\"text-align: right;\">\n",
       "      <th></th>\n",
       "      <th>age</th>\n",
       "      <th>sex</th>\n",
       "      <th>province</th>\n",
       "      <th>country</th>\n",
       "      <th>latitude</th>\n",
       "      <th>longitude</th>\n",
       "      <th>date_confirmation</th>\n",
       "      <th>outcome</th>\n",
       "      <th>Confirmed</th>\n",
       "      <th>Deaths</th>\n",
       "      <th>Recovered</th>\n",
       "      <th>Active</th>\n",
       "      <th>Combined_Key</th>\n",
       "      <th>Incidence_Rate</th>\n",
       "      <th>Case-Fatality_Ratio</th>\n",
       "    </tr>\n",
       "  </thead>\n",
       "  <tbody>\n",
       "    <tr>\n",
       "      <th>0</th>\n",
       "      <td>44.0</td>\n",
       "      <td>1</td>\n",
       "      <td>Delhi</td>\n",
       "      <td>India</td>\n",
       "      <td>28.614740</td>\n",
       "      <td>77.209100</td>\n",
       "      <td>26.05.2020</td>\n",
       "      <td>recovered</td>\n",
       "      <td>238828.0</td>\n",
       "      <td>4907.0</td>\n",
       "      <td>201671.0</td>\n",
       "      <td>32250.0</td>\n",
       "      <td>Delhi,India</td>\n",
       "      <td>1276.409575</td>\n",
       "      <td>0.020546</td>\n",
       "    </tr>\n",
       "    <tr>\n",
       "      <th>1</th>\n",
       "      <td>44.0</td>\n",
       "      <td>1</td>\n",
       "      <td>Uttar Pradesh</td>\n",
       "      <td>India</td>\n",
       "      <td>25.436090</td>\n",
       "      <td>81.847180</td>\n",
       "      <td>20.05.2020</td>\n",
       "      <td>hospitalized</td>\n",
       "      <td>342788.0</td>\n",
       "      <td>4869.0</td>\n",
       "      <td>270094.0</td>\n",
       "      <td>67825.0</td>\n",
       "      <td>Uttar Pradesh,India</td>\n",
       "      <td>144.099577</td>\n",
       "      <td>0.014204</td>\n",
       "    </tr>\n",
       "    <tr>\n",
       "      <th>2</th>\n",
       "      <td>44.0</td>\n",
       "      <td>1</td>\n",
       "      <td>Maharashtra</td>\n",
       "      <td>India</td>\n",
       "      <td>18.504220</td>\n",
       "      <td>73.853020</td>\n",
       "      <td>26.05.2020</td>\n",
       "      <td>hospitalized</td>\n",
       "      <td>1167496.0</td>\n",
       "      <td>31791.0</td>\n",
       "      <td>834432.0</td>\n",
       "      <td>301273.0</td>\n",
       "      <td>Maharashtra,India</td>\n",
       "      <td>948.072083</td>\n",
       "      <td>0.027230</td>\n",
       "    </tr>\n",
       "    <tr>\n",
       "      <th>3</th>\n",
       "      <td>24.0</td>\n",
       "      <td>0</td>\n",
       "      <td>Baden-Wurttemberg</td>\n",
       "      <td>Germany</td>\n",
       "      <td>48.120860</td>\n",
       "      <td>7.849500</td>\n",
       "      <td>15.03.2020</td>\n",
       "      <td>nonhospitalized</td>\n",
       "      <td>46779.0</td>\n",
       "      <td>1871.0</td>\n",
       "      <td>41228.0</td>\n",
       "      <td>3680.0</td>\n",
       "      <td>Baden-Wurttemberg,Germany</td>\n",
       "      <td>422.592353</td>\n",
       "      <td>0.039997</td>\n",
       "    </tr>\n",
       "    <tr>\n",
       "      <th>4</th>\n",
       "      <td>44.0</td>\n",
       "      <td>1</td>\n",
       "      <td>Gujarat</td>\n",
       "      <td>India</td>\n",
       "      <td>23.188409</td>\n",
       "      <td>73.647122</td>\n",
       "      <td>20.05.2020</td>\n",
       "      <td>hospitalized</td>\n",
       "      <td>120336.0</td>\n",
       "      <td>3286.0</td>\n",
       "      <td>100974.0</td>\n",
       "      <td>16076.0</td>\n",
       "      <td>Gujarat,India</td>\n",
       "      <td>188.400627</td>\n",
       "      <td>0.027307</td>\n",
       "    </tr>\n",
       "  </tbody>\n",
       "</table>\n",
       "</div>"
      ],
      "text/plain": [
       "    age  sex           province  country   latitude  longitude  \\\n",
       "0  44.0    1              Delhi    India  28.614740  77.209100   \n",
       "1  44.0    1      Uttar Pradesh    India  25.436090  81.847180   \n",
       "2  44.0    1        Maharashtra    India  18.504220  73.853020   \n",
       "3  24.0    0  Baden-Wurttemberg  Germany  48.120860   7.849500   \n",
       "4  44.0    1            Gujarat    India  23.188409  73.647122   \n",
       "\n",
       "  date_confirmation          outcome  Confirmed   Deaths  Recovered    Active  \\\n",
       "0        26.05.2020        recovered   238828.0   4907.0   201671.0   32250.0   \n",
       "1        20.05.2020     hospitalized   342788.0   4869.0   270094.0   67825.0   \n",
       "2        26.05.2020     hospitalized  1167496.0  31791.0   834432.0  301273.0   \n",
       "3        15.03.2020  nonhospitalized    46779.0   1871.0    41228.0    3680.0   \n",
       "4        20.05.2020     hospitalized   120336.0   3286.0   100974.0   16076.0   \n",
       "\n",
       "                Combined_Key  Incidence_Rate  Case-Fatality_Ratio  \n",
       "0                Delhi,India     1276.409575             0.020546  \n",
       "1        Uttar Pradesh,India      144.099577             0.014204  \n",
       "2          Maharashtra,India      948.072083             0.027230  \n",
       "3  Baden-Wurttemberg,Germany      422.592353             0.039997  \n",
       "4              Gujarat,India      188.400627             0.027307  "
      ]
     },
     "execution_count": 3,
     "metadata": {},
     "output_type": "execute_result"
    }
   ],
   "source": [
    "# convert male to 0 and female to 1\n",
    "#train.replace(to_replace =\"male\", value = 0) \n",
    "train = train.replace(to_replace =[\"female\",\"male\"], value = [0,1]) \n",
    "train.head()"
   ]
  },
  {
   "cell_type": "code",
   "execution_count": 4,
   "metadata": {},
   "outputs": [
    {
     "data": {
      "text/plain": [
       "array(['26.05.2020', '20.05.2020', '15.03.2020', '28.05.2020',\n",
       "       '18.05.2020', '27.03.2020', '24.05.2020',\n",
       "       '10.03.2020 - 12.03.2020', '10.05.2020', '29.05.2020',\n",
       "       '03.05.2020', '30.05.2020', '16.05.2020', '27.05.2020',\n",
       "       '13.04.2020', '31.05.2020', '02.05.2020', '14.04.2020',\n",
       "       '21.05.2020', '02.06.2020', '31.03.2020', '07.05.2020',\n",
       "       '28.03.2020', '24.04.2020', '09.04.2020', '26.04.2020',\n",
       "       '22.04.2020', '01.06.2020', '08.05.2020', '23.05.2020',\n",
       "       '13.05.2020', '05.04.2020', '06.05.2020', '16.04.2020',\n",
       "       '19.05.2020', '05.06.2020', '25.04.2020', '21.04.2020',\n",
       "       '25.05.2020', '07.04.2020', '11.05.2020', '14.05.2020',\n",
       "       '17.05.2020', '15.05.2020', '27.04.2020', '19.04.2020',\n",
       "       '04.05.2020', '26.03.2020', '22.05.2020', '13.03.2020',\n",
       "       '23.04.2020', '12.05.2020', '09.05.2020', '30.04.2020',\n",
       "       '03.04.2020', '13.06.2020', '20.03.2020', '05.05.2020',\n",
       "       '12.04.2020', '10.04.2020', '04.03.2020', '02.04.2020',\n",
       "       '04.04.2020', '15.04.2020', '18.04.2020', '01.05.2020',\n",
       "       '14.03.2020', '28.04.2020', '21.03.2020', '30.03.2020',\n",
       "       '19.03.2020', '17.04.2020', '29.04.2020', '06.04.2020',\n",
       "       '04.06.2020', '08.04.2020', '11.04.2020', '06.06.2020',\n",
       "       '23.03.2020', '03.06.2020', '25.03.2020', '20.04.2020',\n",
       "       '17.03.2020', '18.03.2020', '29.03.2020', '31.01.2020',\n",
       "       '24.01.2020', '24.03.2020', '05.02.2020', '09.06.2020',\n",
       "       '02.03.2020', '22.03.2020', '21.01.2020', '01.04.2020',\n",
       "       '06.02.2020', '07.06.2020', '05.03.2020', '27.01.2020',\n",
       "       '12.06.2020', '14.06.2020', '23.01.2020', '29.01.2020',\n",
       "       '16.03.2020', '16.06.2020', '18.01.2020', '08.03.2020',\n",
       "       '11.03.2020', '22.01.2020', '07.03.2020', '06.03.2020',\n",
       "       '10.03.2020', '12.03.2020', '03.03.2020', '28.02.2020',\n",
       "       '15.06.2020', '03.02.2020', '02.02.2020', '16.02.2020',\n",
       "       '08.06.2020', '09.03.2020', '30.01.2020', '15.02.2020',\n",
       "       '07.02.2020', '17.02.2020', '01.02.2020', '08.02.2020',\n",
       "       '21.02.2020', '28.01.2020', '22.02.2020', '01.03.2020',\n",
       "       '20.02.2020', '04.02.2020', '26.01.2020', '29.02.2020',\n",
       "       '25.01.2020', '14.02.2020', '10.03.2020-13.03.2020', '27.02.2020',\n",
       "       '25.02.2020', '26.02.2020', '11.06.2020', '13.02.2020',\n",
       "       '12.03.2020 - 13.03.2020', '24.02.2020', '23.02.2020',\n",
       "       '09.02.2020', '06.01.2020', '18.02.2020',\n",
       "       '25.02.2020 - 03.03.2020', '07.03.2020 - 13.03.2020', '11.02.2020',\n",
       "       '12.02.2020', '07.03.2020 - 09.03.2020', '10.06.2020',\n",
       "       '18.03.2020-19.03.2020', '07.03.2020-09.03.2020',\n",
       "       '07.03.2020 - 10.03.2020', '20.01.2020', '05.03.2020-06.03.2020',\n",
       "       '10.02.2020', '12.01.2020', '19.02.2020', '19.01.2020',\n",
       "       '10.03.2020 - 11.03.2020', '25.02.2020 - 26.02.2020',\n",
       "       '12.03.2020-14.03.2020', '15.01.2020'], dtype=object)"
      ]
     },
     "execution_count": 4,
     "metadata": {},
     "output_type": "execute_result"
    }
   ],
   "source": [
    "train['date_confirmation'].unique()"
   ]
  },
  {
   "cell_type": "code",
   "execution_count": 5,
   "metadata": {},
   "outputs": [
    {
     "name": "stdout",
     "output_type": "stream",
     "text": [
      "<class 'pandas.core.frame.DataFrame'>\n",
      "RangeIndex: 319639 entries, 0 to 319638\n",
      "Data columns (total 15 columns):\n",
      " #   Column               Non-Null Count   Dtype  \n",
      "---  ------               --------------   -----  \n",
      " 0   age                  319639 non-null  float64\n",
      " 1   sex                  319639 non-null  int64  \n",
      " 2   province             319639 non-null  object \n",
      " 3   country              319639 non-null  object \n",
      " 4   latitude             319639 non-null  float64\n",
      " 5   longitude            319639 non-null  float64\n",
      " 6   date_confirmation    319639 non-null  object \n",
      " 7   outcome              319639 non-null  object \n",
      " 8   Confirmed            273717 non-null  float64\n",
      " 9   Deaths               273717 non-null  float64\n",
      " 10  Recovered            273717 non-null  float64\n",
      " 11  Active               273717 non-null  float64\n",
      " 12  Combined_Key         273717 non-null  object \n",
      " 13  Incidence_Rate       273717 non-null  float64\n",
      " 14  Case-Fatality_Ratio  273717 non-null  float64\n",
      "dtypes: float64(9), int64(1), object(5)\n",
      "memory usage: 36.6+ MB\n"
     ]
    }
   ],
   "source": [
    "train.info()"
   ]
  },
  {
   "cell_type": "code",
   "execution_count": 7,
   "metadata": {},
   "outputs": [],
   "source": [
    "def filterDateConfirmation(df):\n",
    "    for index, row in df.iterrows():\n",
    "        if '-' in str(row['date_confirmation']):\n",
    "            split_date = str(row['date_confirmation']).split('-')\n",
    "            \n",
    "            # Get first date in range\n",
    "            first_date = split_date[0].strip()\n",
    "            \n",
    "            # Convert date to epoch timestamp\n",
    "            utc_time = datetime.strptime(first_date, \"%d.%m.%Y\")\n",
    "            epoch_time = (utc_time - datetime(1970, 1, 1)).total_seconds()\n",
    "        else:\n",
    "            # Convert date to epoch timestamp\n",
    "            utc_time = datetime.strptime(row['date_confirmation'], \"%d.%m.%Y\")\n",
    "            epoch_time = (utc_time - datetime(1970, 1, 1)).total_seconds()\n",
    "            \n",
    "            df.at[index, 'timestamp'] = epoch_time\n",
    "    return df\n",
    "\n",
    "train = filterDateConfirmation(train)"
   ]
  },
  {
   "cell_type": "code",
   "execution_count": 8,
   "metadata": {},
   "outputs": [
    {
     "name": "stdout",
     "output_type": "stream",
     "text": [
      "483526.0\n",
      "12661.0\n",
      "336899.0\n",
      "133967.0\n",
      "946.0\n",
      "0.0\n",
      "1589084735.0\n"
     ]
    },
    {
     "data": {
      "text/plain": [
       "array([1.59045120e+09, 1.58993280e+09, 1.58423040e+09, 1.59062400e+09,\n",
       "       1.58976000e+09, 1.58526720e+09, 1.59027840e+09, 1.58908474e+09,\n",
       "       1.58906880e+09, 1.59071040e+09, 1.58846400e+09, 1.59079680e+09,\n",
       "       1.58958720e+09, 1.59053760e+09, 1.58673600e+09, 1.59088320e+09,\n",
       "       1.58837760e+09, 1.58682240e+09, 1.59001920e+09, 1.59105600e+09,\n",
       "       1.58561280e+09, 1.58880960e+09, 1.58535360e+09, 1.58768640e+09,\n",
       "       1.58639040e+09, 1.58785920e+09, 1.58751360e+09, 1.59096960e+09,\n",
       "       1.58889600e+09, 1.59019200e+09, 1.58932800e+09, 1.58604480e+09,\n",
       "       1.58872320e+09, 1.58699520e+09, 1.58984640e+09, 1.59131520e+09,\n",
       "       1.58777280e+09, 1.58742720e+09, 1.59036480e+09, 1.58621760e+09,\n",
       "       1.58915520e+09, 1.58941440e+09, 1.58967360e+09, 1.58950080e+09,\n",
       "       1.58794560e+09, 1.58725440e+09, 1.58855040e+09, 1.58518080e+09,\n",
       "       1.59010560e+09, 1.58405760e+09, 1.58760000e+09, 1.58924160e+09,\n",
       "       1.58898240e+09, 1.58820480e+09, 1.58587200e+09, 1.59200640e+09,\n",
       "       1.58466240e+09, 1.58863680e+09, 1.58664960e+09, 1.58647680e+09,\n",
       "       1.58328000e+09, 1.58578560e+09, 1.58595840e+09, 1.58690880e+09,\n",
       "       1.58716800e+09, 1.58829120e+09, 1.58414400e+09, 1.58803200e+09,\n",
       "       1.58474880e+09, 1.58552640e+09, 1.58457600e+09, 1.58708160e+09,\n",
       "       1.58811840e+09, 1.58613120e+09, 1.59122880e+09, 1.58630400e+09,\n",
       "       1.58656320e+09, 1.59140160e+09, 1.58492160e+09, 1.59114240e+09,\n",
       "       1.58509440e+09, 1.58734080e+09, 1.58440320e+09, 1.58448960e+09,\n",
       "       1.58544000e+09, 1.58042880e+09, 1.57982400e+09, 1.58500800e+09,\n",
       "       1.58086080e+09, 1.59166080e+09, 1.58310720e+09, 1.58483520e+09,\n",
       "       1.57956480e+09, 1.58569920e+09, 1.58094720e+09, 1.59148800e+09,\n",
       "       1.58336640e+09, 1.58008320e+09, 1.59192000e+09, 1.59209280e+09,\n",
       "       1.57973760e+09, 1.58025600e+09, 1.58431680e+09, 1.59226560e+09,\n",
       "       1.57930560e+09, 1.58362560e+09, 1.58388480e+09, 1.57965120e+09,\n",
       "       1.58353920e+09, 1.58345280e+09, 1.58379840e+09, 1.58397120e+09,\n",
       "       1.58319360e+09, 1.58284800e+09, 1.59217920e+09, 1.58068800e+09,\n",
       "       1.58060160e+09, 1.58181120e+09, 1.59157440e+09, 1.58371200e+09,\n",
       "       1.58034240e+09, 1.58172480e+09, 1.58103360e+09, 1.58189760e+09,\n",
       "       1.58051520e+09, 1.58112000e+09, 1.58224320e+09, 1.58016960e+09,\n",
       "       1.58232960e+09, 1.58302080e+09, 1.58215680e+09, 1.58077440e+09,\n",
       "       1.57999680e+09, 1.58293440e+09, 1.57991040e+09, 1.58163840e+09,\n",
       "       1.58276160e+09, 1.58258880e+09, 1.58267520e+09, 1.59183360e+09,\n",
       "       1.58155200e+09, 1.58250240e+09, 1.58241600e+09, 1.58120640e+09,\n",
       "       1.57826880e+09, 1.58198400e+09, 1.58137920e+09, 1.58146560e+09,\n",
       "       1.59174720e+09, 1.57947840e+09, 1.58129280e+09, 1.57878720e+09,\n",
       "       1.58207040e+09, 1.57939200e+09, 1.57904640e+09])"
      ]
     },
     "execution_count": 8,
     "metadata": {},
     "output_type": "execute_result"
    }
   ],
   "source": [
    "# Functions below will fill up the nan value depending on attribute.\n",
    "# age by average because we can easily find the average since all ages are now integers.\n",
    "def nanByAverage(df):\n",
    "    \n",
    "    notnan = df[df['Confirmed'].isnull()==False]\n",
    "    avg = round(notnan['Confirmed'].astype(int).sum()/len(notnan))\n",
    "    print(avg)\n",
    "    df['Confirmed'] = df['Confirmed'].fillna(avg)\n",
    "   \n",
    "    notnan = df[df['Deaths'].isnull()==False]\n",
    "    avg = round(notnan['Deaths'].astype(int).sum()/len(notnan))\n",
    "    print(avg)\n",
    "    df['Deaths'] = df['Deaths'].fillna(avg)\n",
    "    \n",
    "    notnan = df[df['Recovered'].isnull()==False]\n",
    "    avg = round(notnan['Recovered'].astype(int).sum()/len(notnan))\n",
    "    print(avg)\n",
    "    df['Recovered'] = df['Recovered'].fillna(avg)\n",
    "    \n",
    "    notnan = df[df['Active'].isnull()==False]\n",
    "    avg = round(notnan['Active'].astype(int).sum()/len(notnan))\n",
    "    print(avg)\n",
    "    df['Active'] = df['Active'].fillna(avg)\n",
    "    \n",
    "    notnan = df[df['Incidence_Rate'].isnull()==False]\n",
    "    avg = round(notnan['Incidence_Rate'].astype(int).sum()/len(notnan))\n",
    "    print(avg)\n",
    "    df['Incidence_Rate'] = df['Incidence_Rate'].fillna(avg)\n",
    "    \n",
    "    notnan = df[df['Case-Fatality_Ratio'].isnull()==False]\n",
    "    avg = round(notnan['Case-Fatality_Ratio'].astype(int).sum()/len(notnan))\n",
    "    print(avg)\n",
    "    df['Case-Fatality_Ratio'] = df['Case-Fatality_Ratio'].fillna(avg)\n",
    "    \n",
    "    notnan = df[df['timestamp'].isnull()==False]\n",
    "    avg = round(notnan['timestamp'].astype(int).sum()/len(notnan))\n",
    "    print(avg)\n",
    "    df['timestamp'] = df['timestamp'].fillna(avg)\n",
    "    \n",
    "    return df\n",
    "\n",
    "train = nanByAverage(train)\n",
    "train['timestamp'].unique()"
   ]
  },
  {
   "cell_type": "code",
   "execution_count": 9,
   "metadata": {},
   "outputs": [],
   "source": [
    "# we will remove province, country, and Combined_Key\n",
    "train = train.drop(columns=['province','country','Combined_Key','date_confirmation'])"
   ]
  },
  {
   "cell_type": "code",
   "execution_count": 10,
   "metadata": {},
   "outputs": [
    {
     "name": "stdout",
     "output_type": "stream",
     "text": [
      "<class 'pandas.core.frame.DataFrame'>\n",
      "RangeIndex: 319639 entries, 0 to 319638\n",
      "Data columns (total 12 columns):\n",
      " #   Column               Non-Null Count   Dtype  \n",
      "---  ------               --------------   -----  \n",
      " 0   age                  319639 non-null  float64\n",
      " 1   sex                  319639 non-null  int64  \n",
      " 2   latitude             319639 non-null  float64\n",
      " 3   longitude            319639 non-null  float64\n",
      " 4   outcome              319639 non-null  object \n",
      " 5   Confirmed            319639 non-null  float64\n",
      " 6   Deaths               319639 non-null  float64\n",
      " 7   Recovered            319639 non-null  float64\n",
      " 8   Active               319639 non-null  float64\n",
      " 9   Incidence_Rate       319639 non-null  float64\n",
      " 10  Case-Fatality_Ratio  319639 non-null  float64\n",
      " 11  timestamp            319639 non-null  float64\n",
      "dtypes: float64(10), int64(1), object(1)\n",
      "memory usage: 29.3+ MB\n"
     ]
    }
   ],
   "source": [
    "train.info()"
   ]
  },
  {
   "cell_type": "code",
   "execution_count": 11,
   "metadata": {},
   "outputs": [],
   "source": [
    "X = train.drop('outcome',axis=1)\n",
    "X_train, X_test, y_train, y_test = train_test_split(X, train['outcome'], test_size=0.2, train_size=0.8, random_state=0)"
   ]
  },
  {
   "cell_type": "code",
   "execution_count": 12,
   "metadata": {},
   "outputs": [
    {
     "data": {
      "text/plain": [
       "array(['recovered', 'hospitalized', 'nonhospitalized', 'deceased'],\n",
       "      dtype=object)"
      ]
     },
     "execution_count": 12,
     "metadata": {},
     "output_type": "execute_result"
    }
   ],
   "source": [
    "train['outcome'].unique()"
   ]
  },
  {
   "cell_type": "code",
   "execution_count": 13,
   "metadata": {},
   "outputs": [
    {
     "data": {
      "text/html": [
       "<div>\n",
       "<style scoped>\n",
       "    .dataframe tbody tr th:only-of-type {\n",
       "        vertical-align: middle;\n",
       "    }\n",
       "\n",
       "    .dataframe tbody tr th {\n",
       "        vertical-align: top;\n",
       "    }\n",
       "\n",
       "    .dataframe thead th {\n",
       "        text-align: right;\n",
       "    }\n",
       "</style>\n",
       "<table border=\"1\" class=\"dataframe\">\n",
       "  <thead>\n",
       "    <tr style=\"text-align: right;\">\n",
       "      <th></th>\n",
       "      <th>age</th>\n",
       "      <th>sex</th>\n",
       "      <th>latitude</th>\n",
       "      <th>longitude</th>\n",
       "      <th>Confirmed</th>\n",
       "      <th>Deaths</th>\n",
       "      <th>Recovered</th>\n",
       "      <th>Active</th>\n",
       "      <th>Incidence_Rate</th>\n",
       "      <th>Case-Fatality_Ratio</th>\n",
       "      <th>timestamp</th>\n",
       "    </tr>\n",
       "  </thead>\n",
       "  <tbody>\n",
       "    <tr>\n",
       "      <th>262996</th>\n",
       "      <td>44.0</td>\n",
       "      <td>0</td>\n",
       "      <td>28.614740</td>\n",
       "      <td>77.209100</td>\n",
       "      <td>238828.0</td>\n",
       "      <td>4907.0</td>\n",
       "      <td>201671.0</td>\n",
       "      <td>32250.0</td>\n",
       "      <td>1276.409575</td>\n",
       "      <td>0.020546</td>\n",
       "      <td>1.590106e+09</td>\n",
       "    </tr>\n",
       "    <tr>\n",
       "      <th>187475</th>\n",
       "      <td>44.0</td>\n",
       "      <td>0</td>\n",
       "      <td>39.998630</td>\n",
       "      <td>8.705055</td>\n",
       "      <td>3167.0</td>\n",
       "      <td>141.0</td>\n",
       "      <td>1431.0</td>\n",
       "      <td>1595.0</td>\n",
       "      <td>193.157928</td>\n",
       "      <td>0.044522</td>\n",
       "      <td>1.588291e+09</td>\n",
       "    </tr>\n",
       "    <tr>\n",
       "      <th>92179</th>\n",
       "      <td>44.0</td>\n",
       "      <td>1</td>\n",
       "      <td>28.614740</td>\n",
       "      <td>77.209100</td>\n",
       "      <td>238828.0</td>\n",
       "      <td>4907.0</td>\n",
       "      <td>201671.0</td>\n",
       "      <td>32250.0</td>\n",
       "      <td>1276.409575</td>\n",
       "      <td>0.020546</td>\n",
       "      <td>1.590019e+09</td>\n",
       "    </tr>\n",
       "    <tr>\n",
       "      <th>203298</th>\n",
       "      <td>24.0</td>\n",
       "      <td>1</td>\n",
       "      <td>50.090178</td>\n",
       "      <td>12.042008</td>\n",
       "      <td>64465.0</td>\n",
       "      <td>2648.0</td>\n",
       "      <td>56398.0</td>\n",
       "      <td>5419.0</td>\n",
       "      <td>492.975265</td>\n",
       "      <td>0.041077</td>\n",
       "      <td>1.587686e+09</td>\n",
       "    </tr>\n",
       "    <tr>\n",
       "      <th>57285</th>\n",
       "      <td>44.0</td>\n",
       "      <td>1</td>\n",
       "      <td>28.614740</td>\n",
       "      <td>77.209100</td>\n",
       "      <td>238828.0</td>\n",
       "      <td>4907.0</td>\n",
       "      <td>201671.0</td>\n",
       "      <td>32250.0</td>\n",
       "      <td>1276.409575</td>\n",
       "      <td>0.020546</td>\n",
       "      <td>1.588810e+09</td>\n",
       "    </tr>\n",
       "  </tbody>\n",
       "</table>\n",
       "</div>"
      ],
      "text/plain": [
       "         age  sex   latitude  longitude  Confirmed  Deaths  Recovered  \\\n",
       "262996  44.0    0  28.614740  77.209100   238828.0  4907.0   201671.0   \n",
       "187475  44.0    0  39.998630   8.705055     3167.0   141.0     1431.0   \n",
       "92179   44.0    1  28.614740  77.209100   238828.0  4907.0   201671.0   \n",
       "203298  24.0    1  50.090178  12.042008    64465.0  2648.0    56398.0   \n",
       "57285   44.0    1  28.614740  77.209100   238828.0  4907.0   201671.0   \n",
       "\n",
       "         Active  Incidence_Rate  Case-Fatality_Ratio     timestamp  \n",
       "262996  32250.0     1276.409575             0.020546  1.590106e+09  \n",
       "187475   1595.0      193.157928             0.044522  1.588291e+09  \n",
       "92179   32250.0     1276.409575             0.020546  1.590019e+09  \n",
       "203298   5419.0      492.975265             0.041077  1.587686e+09  \n",
       "57285   32250.0     1276.409575             0.020546  1.588810e+09  "
      ]
     },
     "execution_count": 13,
     "metadata": {},
     "output_type": "execute_result"
    }
   ],
   "source": [
    "X_train.head()"
   ]
  },
  {
   "cell_type": "code",
   "execution_count": 14,
   "metadata": {},
   "outputs": [],
   "source": [
    "# we will graph out the accuracy score for k-neaerest neighbours for k=2 to 100\n",
    "\n",
    "def knn_plotPrecision(cases_train,outcomes_train,cases_valid,outcomes_valid):\n",
    "    valid_acc = []\n",
    "    train_acc = []\n",
    "    n_neighbors = [i for i in range(2,100,5)]\n",
    "    for i in range(2,100,5):\n",
    "        model=KNeighborsClassifier(n_neighbors=i, weights='distance')\n",
    "        model.fit(cases_train,outcomes_train)\n",
    "        valid_acc.append(model.score(cases_valid,outcomes_valid))\n",
    "        train_acc.append(model.score(cases_train,outcomes_train))\n",
    "    return valid_acc,train_acc"
   ]
  },
  {
   "cell_type": "code",
   "execution_count": 15,
   "metadata": {},
   "outputs": [
    {
     "data": {
      "image/png": "[encoded data removed]",
      "text/plain": [
       "<Figure size 1440x720 with 1 Axes>"
      ]
     },
     "metadata": {
      "needs_background": "light"
     },
     "output_type": "display_data"
    }
   ],
   "source": [
    "valid_acc,train_acc = knn_plotPrecision(X_train, y_train, X_test, y_test)\n",
    "plt.figure(figsize=(20,10))\n",
    "x = [i for i in range(2,100,5)]\n",
    "plt.xlabel('n_neighbors')\n",
    "plt.ylabel('Accuracy')\n",
    "plt.plot(x,valid_acc, label = 'Valid')\n",
    "plt.plot(x,train_acc, label = 'Train')\n",
    "plt.legend()\n",
    "plt.savefig('../plots/knn_tree_depth_plot.png')\n",
    "plt.show()"
   ]
  },
  {
   "cell_type": "code",
   "execution_count": null,
   "metadata": {},
   "outputs": [],
   "source": [
    "# we will graph out the accuracy score for random forest for depths up to 100\n",
    "\n",
    "def rf_plotPrecision(cases_train, outcomes_train, cases_valid, outcomes_valid):\n",
    "    precision_train = []\n",
    "    precision_valid = []\n",
    "    for i in range(1, 100, 5):\n",
    "        model = RandomForestClassifier(max_features='log2', max_depth=i)\n",
    "        model.fit(cases_train, outcomes_train)\n",
    "\n",
    "        pred_train = model.predict(cases_train)\n",
    "        prec_train = accuracy_score(outcomes_train, pred_train)\n",
    "        precision_train.append(prec_train)\n",
    "\n",
    "        pred_valid = model.predict(cases_valid)\n",
    "        prec_valid = accuracy_score(outcomes_valid, pred_valid)\n",
    "        precision_valid.append(prec_valid)\n",
    "        \n",
    "    return precision_train, precision_valid"
   ]
  },
  {
   "cell_type": "code",
   "execution_count": null,
   "metadata": {},
   "outputs": [],
   "source": [
    "precision_train, precision_valid = rf_plotPrecision(X_train, y_train, X_test, y_test)\n",
    "\n",
    "plt.figure(figsize=(20,10))\n",
    "x = np.arange(1, 100, step=5)\n",
    "\n",
    "plt.xlabel('Tree depth')\n",
    "plt.ylabel('Accuracy')\n",
    "\n",
    "plt.plot(x, precision_train, label='Train')\n",
    "plt.plot(x, precision_valid, label='Valid')\n",
    "plt.legend()\n",
    "plt.savefig('../plots/rf_tree_depth_plot.png')\n",
    "plt.show()"
   ]
  },
  {
   "cell_type": "code",
   "execution_count": null,
   "metadata": {},
   "outputs": [],
   "source": [
    "# we will graph out the accuracy score for gradient boosting for depths up to 21\n",
    "# note that this may take 4+ hours, so it's better to just look at the output plot in plots folder\n",
    "\n",
    "def gb_plotPrecision(cases_train,outcomes_train,cases_valid,outcomes_valid):\n",
    "    valid_acc = []\n",
    "    train_acc = []\n",
    "    max_depth = [i for i in range(1, 21)]\n",
    "    for i in max_depth:\n",
    "        model=GradientBoostingClassifier(max_depth=i, min_samples_leaf=2, random_state=0)\n",
    "        model.fit(cases_train,outcomes_train)\n",
    "        valid_acc.append(model.score(cases_valid,outcomes_valid))\n",
    "        train_acc.append(model.score(cases_train,outcomes_train))\n",
    "    return valid_acc,train_acc"
   ]
  },
  {
   "cell_type": "code",
   "execution_count": null,
   "metadata": {},
   "outputs": [],
   "source": [
    "# plot of train and test scores vs tree depth\n",
    "valid_acc,train_acc = gb_plotPrecision(X_train, y_train, X_test, y_test)\n",
    "values = [i for i in range(1, 21)]\n",
    "plt.figure(figsize=(20,10))\n",
    "plt.plot(values, train_acc, label='Train')\n",
    "plt.plot(values, valid_acc, label='Valid')\n",
    "plt.xlabel('Tree depth')\n",
    "plt.ylabel('Accuracy')\n",
    "plt.legend()\n",
    "plt.savefig('../plots/Gb_tree_depth_plot.png')\n",
    "plt.show()"
   ]
  },
  {
   "cell_type": "code",
   "execution_count": 16,
   "metadata": {},
   "outputs": [],
   "source": [
    "# our hyperparameters were chosen based on our elbow graphs for the max depths and n neighbors.\n",
    "rf = RandomForestClassifier(max_depth=25, max_features='log2')\n",
    "knn = KNeighborsClassifier(n_neighbors=12, weights='distance')\n",
    "gbst = GradientBoostingClassifier(max_depth=11, min_samples_leaf=2, random_state=0)\n",
    "\n",
    "model = VotingClassifier([\n",
    "        ('rf', rf),\n",
    "        ('knn', knn),\n",
    "        ('Gboost', gbst)\n",
    "    ])"
   ]
  },
  {
   "cell_type": "code",
   "execution_count": 17,
   "metadata": {},
   "outputs": [],
   "source": [
    "# fit our models and export to the pickle files\n",
    "rf.fit(X_train, y_train)\n",
    "filename = '../models/rf_classifier.pkl'\n",
    "with open(filename, 'wb') as file:\n",
    "    pickle.dump(rf, file)"
   ]
  },
  {
   "cell_type": "code",
   "execution_count": 18,
   "metadata": {},
   "outputs": [],
   "source": [
    "knn.fit(X_train, y_train)\n",
    "filename = '../models/knn_classifier.pkl'\n",
    "with open(filename, 'wb') as file:\n",
    "    pickle.dump(knn, file)"
   ]
  },
  {
   "cell_type": "code",
   "execution_count": null,
   "metadata": {},
   "outputs": [],
   "source": [
    "gbst.fit(X_train, y_train)\n",
    "filename = '../models/GB_classifier.pkl'\n",
    "with open(filename, 'wb') as file:\n",
    "    pickle.dump(gbst, file)"
   ]
  },
  {
   "cell_type": "code",
   "execution_count": null,
   "metadata": {},
   "outputs": [],
   "source": [
    "# load our models\n",
    "knn_pkl = pickle.load(open(\"../models/knn_classifier.pkl\", \"rb\"))\n",
    "rf_pkl = pickle.load(open(\"../models/rf_classifier.pkl\", \"rb\"))\n",
    "gb_pkl = pickle.load(open(\"../models/GB_classifier.pkl\", \"rb\"))"
   ]
  },
  {
   "cell_type": "code",
   "execution_count": null,
   "metadata": {},
   "outputs": [],
   "source": [
    "# fit our knn model for training and predict for our testing and training data\n",
    "#knn_pkl.fit(X_train, y_train)\n",
    "knn_y_pred_test = knn_pkl.predict(X_test)\n",
    "print(accuracy_score(y_test, knn_y_pred_test))"
   ]
  },
  {
   "cell_type": "code",
   "execution_count": null,
   "metadata": {},
   "outputs": [],
   "source": [
    "knn_y_pred_train = knn_pkl.predict(X_train)\n",
    "print(accuracy_score(y_train, knn_y_pred_train))"
   ]
  },
  {
   "cell_type": "code",
   "execution_count": null,
   "metadata": {},
   "outputs": [],
   "source": [
    "# fit our random forest model for training and predict for our testing and training data\n",
    "#rf_pkl.fit(X_train, y_train)\n",
    "rf_y_pred_test = rf_pkl.predict(X_test)\n",
    "print(accuracy_score(y_test, rf_y_pred_test))"
   ]
  },
  {
   "cell_type": "code",
   "execution_count": null,
   "metadata": {},
   "outputs": [],
   "source": [
    "rf_y_pred_train = rf_pkl.predict(X_train)\n",
    "print(accuracy_score(y_train, rf_y_pred_train))"
   ]
  },
  {
   "cell_type": "code",
   "execution_count": null,
   "metadata": {},
   "outputs": [],
   "source": [
    "# fit our gradient boosting model for training and predict for our testing and training data\n",
    "#gb_pkl.fit(X_train, y_train)\n",
    "gb_y_pred_test = gb_pkl.predict(X_test)\n",
    "print(accuracy_score(y_test, gb_y_pred_test))"
   ]
  },
  {
   "cell_type": "code",
   "execution_count": null,
   "metadata": {},
   "outputs": [],
   "source": [
    "gb_y_pred_train = gb_pkl.predict(X_train)\n",
    "print(accuracy_score(y_train, gb_y_pred_train))"
   ]
  },
  {
   "cell_type": "code",
   "execution_count": null,
   "metadata": {},
   "outputs": [],
   "source": []
  }
 ],
 "metadata": {
  "kernelspec": {
   "display_name": "Python 3",
   "language": "python",
   "name": "python3"
  },
  "language_info": {
   "codemirror_mode": {
    "name": "ipython",
    "version": 3
   },
   "file_extension": ".py",
   "mimetype": "text/x-python",
   "name": "python",
   "nbconvert_exporter": "python",
   "pygments_lexer": "ipython3",
   "version": "3.8.3"
  }
 },
 "nbformat": 4,
 "nbformat_minor": 4
}
